{
 "cells": [
  {
   "cell_type": "code",
   "execution_count": 1,
   "metadata": {},
   "outputs": [],
   "source": [
    "import os\n",
    "from pydub import AudioSegment"
   ]
  },
  {
   "cell_type": "code",
   "execution_count": 2,
   "metadata": {},
   "outputs": [],
   "source": [
    "#edit from ale's code\n",
    "\n",
    "def partition_dataset(datapath, out, ms, hop = None):\n",
    "    \n",
    "    if hop is None:\n",
    "        hop = ms\n",
    "    cats = os.listdir(datapath)\n",
    "    for cat in cats:\n",
    "        dirpath = os.path.join(datapath, str(cat))\n",
    "        for track in os.listdir(dirpath):\n",
    "            trackpath = os.path.join(dirpath, str(track))\n",
    "            audio = AudioSegment.from_file(trackpath)\n",
    "            \n",
    "            size = len(audio) #boh\n",
    "            segments = []\n",
    "            i = 0\n",
    "            while(i+ms < size):\n",
    "                next_segment = audio[i:i+ms]\n",
    "                segments.append(next_segment)\n",
    "                i = i+hop\n",
    "            \n",
    "            outpath = os.path.join(out, str(cat), str(track.split(\".\")[0]))\n",
    "            \n",
    "            if not os.path.isdir(outpath):\n",
    "                os.makedirs(outpath)\n",
    "                \n",
    "            form = track.split(\".\")[-1]\n",
    "                    \n",
    "            for idx, segment in enumerate(segments):\n",
    "                segment.export(os.path.join(outpath, str(str(idx) + \".\" + form)), format=form)\n"
   ]
  },
  {
   "cell_type": "code",
   "execution_count": 3,
   "metadata": {},
   "outputs": [],
   "source": [
    "partition_dataset('../dataset/UtahAudioData','../dataset/segments',10000, 5000)"
   ]
  },
  {
   "cell_type": "markdown",
   "metadata": {},
   "source": [
    "Now we read the dataset for tensorflow"
   ]
  },
  {
   "cell_type": "code",
   "execution_count": 1,
   "metadata": {},
   "outputs": [],
   "source": [
    "import glob\n",
    "from Spectrum import Spectrum \n",
    "\n",
    "spectres = []\n",
    "labels = []\n",
    "\n",
    "#79\n",
    "records = glob.glob('../dataset/segments/concrete_mixer/ConcreteMixer_onsite/*.wav')\n",
    "for record in records:\n",
    "    data = Spectrum.compute_specgram_and_delta(record)\n",
    "    spectres.append(data)\n",
    "    labels.append(0.0)\n",
    "\n",
    "#69\n",
    "records = glob.glob('../dataset/segments/dozer_JD700J/JD700J_onsite/*.wav')\n",
    "for record in records:\n",
    "    data = Spectrum.compute_specgram_and_delta(record)\n",
    "    spectres.append(data)\n",
    "    labels.append(1.0)\n",
    "\n",
    "#111\n",
    "'''\n",
    "records = glob.glob('../dataset/segments/excavator_JD50G/JD50G_onboard/*.wav')\n",
    "for record in records:\n",
    "    data = Spectrum.compute_specgram_and_delta(record)\n",
    "    spectres.append(data)\n",
    "    labels.append(2.0)\n",
    "#44\n",
    "records = glob.glob('../dataset/segments/excavator_JD50G/JD50G_onsite/*.wav')\n",
    "for record in records:\n",
    "    data = Spectrum.compute_specgram_and_delta(record)\n",
    "    spectres.append(data)\n",
    "    labels.append(2.0)\n",
    "'''\n",
    "#112\n",
    "records = glob.glob('../dataset/segments/excavator_JD50G/JD50G_onsit_0/*.wav')\n",
    "for record in records:\n",
    "    data = Spectrum.compute_specgram_and_delta(record)\n",
    "    spectres.append(data)\n",
    "    labels.append(2.0)\n",
    "'''\n",
    "#237\n",
    "records = glob.glob('../dataset/segments/grader_JD670G/JD670G_onboard/*.wav')\n",
    "for record in records:\n",
    "    data = Spectrum.compute_specgram_and_delta(record)\n",
    "    spectres.append(data)\n",
    "    labels.append(3.0)\n",
    "'''\n",
    "#238\n",
    "records = glob.glob('../dataset/segments/grader_JD670G/JD670G_onsite/*.wav')\n",
    "for record in records:\n",
    "    data = Spectrum.compute_specgram_and_delta(record)\n",
    "    spectres.append(data)\n",
    "    labels.append(3.0)"
   ]
  },
  {
   "cell_type": "code",
   "execution_count": 2,
   "metadata": {},
   "outputs": [
    {
     "name": "stdout",
     "output_type": "stream",
     "text": [
      "318\n",
      "(128, 44, 2)\n",
      "318\n"
     ]
    }
   ],
   "source": [
    "print(len(spectres))\n",
    "print(spectres[0].shape)\n",
    "print(len(labels))"
   ]
  },
  {
   "cell_type": "code",
   "execution_count": 3,
   "metadata": {},
   "outputs": [
    {
     "data": {
      "text/plain": [
       "\"\\nwith open('dataset','wb') as out:\\n    pickle.dump(dataset, out)\\n\""
      ]
     },
     "execution_count": 3,
     "metadata": {},
     "output_type": "execute_result"
    }
   ],
   "source": [
    "import pickle\n",
    "\n",
    "'''\n",
    "with open('dataset','wb') as out:\n",
    "    pickle.dump(dataset, out)\n",
    "'''"
   ]
  },
  {
   "cell_type": "code",
   "execution_count": 4,
   "metadata": {},
   "outputs": [
    {
     "ename": "FileNotFoundError",
     "evalue": "[Errno 2] No such file or directory: 'dataset'",
     "output_type": "error",
     "traceback": [
      "\u001b[0;31m---------------------------------------------------------------------------\u001b[0m",
      "\u001b[0;31mFileNotFoundError\u001b[0m                         Traceback (most recent call last)",
      "\u001b[0;32m<ipython-input-4-4ebb20d82d86>\u001b[0m in \u001b[0;36m<module>\u001b[0;34m\u001b[0m\n\u001b[1;32m      1\u001b[0m \u001b[0;32mimport\u001b[0m \u001b[0mpickle\u001b[0m\u001b[0;34m\u001b[0m\u001b[0;34m\u001b[0m\u001b[0m\n\u001b[0;32m----> 2\u001b[0;31m \u001b[0;32mwith\u001b[0m \u001b[0mopen\u001b[0m\u001b[0;34m(\u001b[0m\u001b[0;34m'dataset'\u001b[0m\u001b[0;34m,\u001b[0m\u001b[0;34m'rb'\u001b[0m\u001b[0;34m)\u001b[0m \u001b[0;32mas\u001b[0m \u001b[0minp\u001b[0m\u001b[0;34m:\u001b[0m\u001b[0;34m\u001b[0m\u001b[0;34m\u001b[0m\u001b[0m\n\u001b[0m\u001b[1;32m      3\u001b[0m     \u001b[0mdataset\u001b[0m \u001b[0;34m=\u001b[0m \u001b[0mpickle\u001b[0m\u001b[0;34m.\u001b[0m\u001b[0mload\u001b[0m\u001b[0;34m(\u001b[0m\u001b[0minp\u001b[0m\u001b[0;34m)\u001b[0m\u001b[0;34m\u001b[0m\u001b[0;34m\u001b[0m\u001b[0m\n",
      "\u001b[0;31mFileNotFoundError\u001b[0m: [Errno 2] No such file or directory: 'dataset'"
     ]
    }
   ],
   "source": [
    "import pickle\n",
    "with open('dataset','rb') as inp:\n",
    "    dataset = pickle.load(inp)"
   ]
  },
  {
   "cell_type": "code",
   "execution_count": 3,
   "metadata": {},
   "outputs": [
    {
     "name": "stdout",
     "output_type": "stream",
     "text": [
      "(array([[[-48.7783548 ,   0.86872766],\n",
      "        [-49.87060938,   0.86872766],\n",
      "        [-43.58884139,   0.86872766],\n",
      "        ...,\n",
      "        [-45.69114542,   0.56034375],\n",
      "        [-44.58572146,   0.56034375],\n",
      "        [-30.03267548,   0.56034375]],\n",
      "\n",
      "       [[-50.93401977,   1.14042228],\n",
      "        [-47.37927485,   1.14042228],\n",
      "        [-44.86669406,   1.14042228],\n",
      "        ...,\n",
      "        [-49.06216535,   0.76234978],\n",
      "        [-39.75869086,   0.76234978],\n",
      "        [-31.3919956 ,   0.76234978]],\n",
      "\n",
      "       [[-46.49462784,   0.86838532],\n",
      "        [-48.41102602,   0.86838532],\n",
      "        [-45.12534103,   0.86838532],\n",
      "        ...,\n",
      "        [-40.88652048,   1.31592491],\n",
      "        [-41.36283774,   1.31592491],\n",
      "        [-29.70375129,   1.31592491]],\n",
      "\n",
      "       ...,\n",
      "\n",
      "       [[-41.84264577,  -2.0135837 ],\n",
      "        [-69.23888409,  -2.0135837 ],\n",
      "        [-68.83649401,  -2.0135837 ],\n",
      "        ...,\n",
      "        [-69.46690399,   1.6760407 ],\n",
      "        [-73.01733435,   1.6760407 ],\n",
      "        [-40.69177175,   1.6760407 ]],\n",
      "\n",
      "       [[-41.83740117,  -2.50671032],\n",
      "        [-79.94687317,  -2.50671032],\n",
      "        [-78.87690562,  -2.50671032],\n",
      "        ...,\n",
      "        [-77.51007655,   2.67309667],\n",
      "        [-80.        ,   2.67309667],\n",
      "        [-40.90677167,   2.67309667]],\n",
      "\n",
      "       [[-42.07562313,  -2.51454568],\n",
      "        [-80.        ,  -2.51454568],\n",
      "        [-80.        ,  -2.51454568],\n",
      "        ...,\n",
      "        [-78.71756993,   2.62137989],\n",
      "        [-80.        ,   2.62137989],\n",
      "        [-41.17148072,   2.62137989]]]), 2.0)\n"
     ]
    }
   ],
   "source": [
    "import random\n",
    "dataset = (spectres, labels)\n",
    "X, Y = dataset\n",
    "new_dataset = [x for x in zip(X,Y)]\n",
    "random.shuffle(new_dataset)\n",
    "print(new_dataset[0])\n",
    "X = []\n",
    "Y = []\n",
    "for x, y in new_dataset:\n",
    "    X.append(x)\n",
    "    Y.append(y)"
   ]
  },
  {
   "cell_type": "code",
   "execution_count": 4,
   "metadata": {},
   "outputs": [
    {
     "name": "stdout",
     "output_type": "stream",
     "text": [
      "[[[-48.7783548    0.86872766]\n",
      "  [-49.87060938   0.86872766]\n",
      "  [-43.58884139   0.86872766]\n",
      "  ...\n",
      "  [-45.69114542   0.56034375]\n",
      "  [-44.58572146   0.56034375]\n",
      "  [-30.03267548   0.56034375]]\n",
      "\n",
      " [[-50.93401977   1.14042228]\n",
      "  [-47.37927485   1.14042228]\n",
      "  [-44.86669406   1.14042228]\n",
      "  ...\n",
      "  [-49.06216535   0.76234978]\n",
      "  [-39.75869086   0.76234978]\n",
      "  [-31.3919956    0.76234978]]\n",
      "\n",
      " [[-46.49462784   0.86838532]\n",
      "  [-48.41102602   0.86838532]\n",
      "  [-45.12534103   0.86838532]\n",
      "  ...\n",
      "  [-40.88652048   1.31592491]\n",
      "  [-41.36283774   1.31592491]\n",
      "  [-29.70375129   1.31592491]]\n",
      "\n",
      " ...\n",
      "\n",
      " [[-41.84264577  -2.0135837 ]\n",
      "  [-69.23888409  -2.0135837 ]\n",
      "  [-68.83649401  -2.0135837 ]\n",
      "  ...\n",
      "  [-69.46690399   1.6760407 ]\n",
      "  [-73.01733435   1.6760407 ]\n",
      "  [-40.69177175   1.6760407 ]]\n",
      "\n",
      " [[-41.83740117  -2.50671032]\n",
      "  [-79.94687317  -2.50671032]\n",
      "  [-78.87690562  -2.50671032]\n",
      "  ...\n",
      "  [-77.51007655   2.67309667]\n",
      "  [-80.           2.67309667]\n",
      "  [-40.90677167   2.67309667]]\n",
      "\n",
      " [[-42.07562313  -2.51454568]\n",
      "  [-80.          -2.51454568]\n",
      "  [-80.          -2.51454568]\n",
      "  ...\n",
      "  [-78.71756993   2.62137989]\n",
      "  [-80.           2.62137989]\n",
      "  [-41.17148072   2.62137989]]]\n",
      "2.0\n"
     ]
    }
   ],
   "source": [
    "print(X[0])\n",
    "print(Y[0])"
   ]
  },
  {
   "cell_type": "code",
   "execution_count": null,
   "metadata": {},
   "outputs": [],
   "source": []
  },
  {
   "cell_type": "code",
   "execution_count": 5,
   "metadata": {},
   "outputs": [],
   "source": [
    "import numpy as np\n",
    "X = np.array(X, dtype=np.float32)\n",
    "Y = np.array(Y, dtype=np.int32)\n",
    "data_size = len(X)\n",
    "split_size = int(0.7*data_size)\n",
    "xtrain = X[:split_size]\n",
    "ytrain = Y[:split_size]\n",
    "Xtest = X[split_size:]\n",
    "Ytest = Y[split_size:]"
   ]
  },
  {
   "cell_type": "code",
   "execution_count": 6,
   "metadata": {},
   "outputs": [],
   "source": [
    "import tensorflow as tf\n",
    "import tensorflow.contrib.eager as tfe\n",
    "tf.enable_eager_execution()"
   ]
  },
  {
   "cell_type": "code",
   "execution_count": 7,
   "metadata": {},
   "outputs": [],
   "source": [
    "Xtrain = tf.convert_to_tensor(xtrain, dtype=tf.float32)\n",
    "ytrain = tf.convert_to_tensor(ytrain, dtype=tf.float32)\n",
    "Xtest = tf.convert_to_tensor(Xtest, dtype=tf.float32)\n",
    "ytest = tf.convert_to_tensor(Ytest, dtype=tf.float32)\n",
    "train_it = tf.data.Dataset.from_tensor_slices((xtrain, ytrain))\n",
    "test_it = tf.data.Dataset.from_tensor_slices((Xtest, Ytest))"
   ]
  },
  {
   "cell_type": "code",
   "execution_count": 8,
   "metadata": {},
   "outputs": [],
   "source": [
    "def _parse_example(x, y):\n",
    "    #x = tf.cast(tf.reshape(x, (244, 341, 4)), tf.float32) / tf.constant(255.0)\n",
    "    x = tf.cast(x, tf.float32)\n",
    "    y = tf.cast(y, tf.int32)\n",
    "    return x, y\n",
    "train_it = train_it.map(_parse_example)\n",
    "test_it = test_it.map(_parse_example)"
   ]
  },
  {
   "cell_type": "code",
   "execution_count": null,
   "metadata": {},
   "outputs": [],
   "source": []
  },
  {
   "cell_type": "code",
   "execution_count": 9,
   "metadata": {},
   "outputs": [],
   "source": [
    "class SpectroCNN(tf.keras.Model):\n",
    "  \n",
    "    def __init__(self):\n",
    "        super(SpectroCNN, self).__init__()\n",
    "    \n",
    "        self.conv1 = tf.layers.Conv2D(filters=24,\n",
    "                                      kernel_size=[6, 6],\n",
    "                                      strides = (1,1),\n",
    "                                      kernel_initializer = tf.initializers.glorot_uniform,\n",
    "                                      padding=\"same\",\n",
    "                                      activation=tf.nn.relu)\n",
    "        self.conv2 = tf.layers.Conv2D(filters=24,\n",
    "                                      kernel_size=[6, 6],\n",
    "                                      strides = (1,1),\n",
    "                                      kernel_initializer = tf.initializers.glorot_uniform,\n",
    "                                      padding=\"same\",\n",
    "                                      activation=tf.nn.relu)\n",
    "        self.conv3 = tf.layers.Conv2D(filters=48,\n",
    "                                      kernel_size=[5, 5],\n",
    "                                      strides = (2,2),\n",
    "                                      kernel_initializer = tf.initializers.glorot_uniform,\n",
    "                                      padding=\"same\",\n",
    "                                      activation=tf.nn.relu)\n",
    "        self.conv4 = tf.layers.Conv2D(filters=48,\n",
    "                                      kernel_size=[5, 5],\n",
    "                                      strides = (2,2),\n",
    "                                      kernel_initializer = tf.initializers.glorot_uniform,\n",
    "                                      padding=\"same\",\n",
    "                                      activation=tf.nn.relu)\n",
    "        self.conv5 = tf.layers.Conv2D(filters=64,\n",
    "                                      kernel_size=[4, 4],\n",
    "                                      strides = (2,2),\n",
    "                                      kernel_initializer = tf.initializers.glorot_uniform,\n",
    "                                      padding=\"same\",\n",
    "                                      activation=tf.nn.relu)\n",
    "\n",
    "        self.dense = tf.layers.Dense(200, activation=tf.nn.relu)\n",
    "        self.dropout = tf.layers.Dropout(0.3) #to be improved\n",
    "    \n",
    "        self.logits = tf.layers.Dense(units=4, activation=tf.nn.softmax)\n",
    "    \n",
    "    def call(self, x, training=False):\n",
    "    \n",
    "        x = self.conv1(x)\n",
    "        x = self.conv2(x)\n",
    "        x = self.conv3(x)\n",
    "        x = self.conv4(x)\n",
    "        x = self.conv5(x)\n",
    "        x = self.dense(tf.reshape(x, [-1, 16*6*64])) #this is not so correct\n",
    "        x = self.dropout(x, training=training)\n",
    "\n",
    "        return self.logits(x)"
   ]
  },
  {
   "cell_type": "code",
   "execution_count": 10,
   "metadata": {},
   "outputs": [],
   "source": [
    "cnn = SpectroCNN()\n",
    "def loss(net, x, y):\n",
    "    return tf.losses.sparse_softmax_cross_entropy(logits=net(x, training=True), labels=y)\n",
    "\n",
    "opt = tf.train.AdamOptimizer()"
   ]
  },
  {
   "cell_type": "code",
   "execution_count": 11,
   "metadata": {
    "scrolled": false
   },
   "outputs": [
    {
     "name": "stdout",
     "output_type": "stream",
     "text": [
      "==================================\n",
      "Train accuracy at epoch 0 is 37.83783783783784 %\n",
      "Test accuracy at epoch 0 is 32.29166666666667 %\n",
      "Loss value at epoch 0 is 1.3603742122650146\n",
      "==================================\n",
      "Train accuracy at epoch 1 is 35.585585585585584 %\n",
      "Test accuracy at epoch 1 is 34.375 %\n",
      "Loss value at epoch 1 is 1.3612715005874634\n",
      "==================================\n",
      "Train accuracy at epoch 2 is 49.0990990990991 %\n",
      "Test accuracy at epoch 2 is 54.166666666666664 %\n",
      "Loss value at epoch 2 is 1.2734936475753784\n",
      "==================================\n",
      "Train accuracy at epoch 3 is 83.33333333333334 %\n",
      "Test accuracy at epoch 3 is 82.29166666666666 %\n",
      "Loss value at epoch 3 is 0.8888251185417175\n",
      "==================================\n",
      "Train accuracy at epoch 4 is 98.1981981981982 %\n",
      "Test accuracy at epoch 4 is 95.83333333333334 %\n",
      "Loss value at epoch 4 is 0.7459813356399536\n",
      "==================================\n",
      "Train accuracy at epoch 5 is 98.1981981981982 %\n",
      "Test accuracy at epoch 5 is 96.875 %\n",
      "Loss value at epoch 5 is 0.7545919418334961\n",
      "==================================\n",
      "Train accuracy at epoch 6 is 98.64864864864865 %\n",
      "Test accuracy at epoch 6 is 98.95833333333334 %\n",
      "Loss value at epoch 6 is 0.7542596459388733\n",
      "==================================\n",
      "Train accuracy at epoch 7 is 94.5945945945946 %\n",
      "Test accuracy at epoch 7 is 95.83333333333334 %\n",
      "Loss value at epoch 7 is 0.7942561507225037\n",
      "==================================\n",
      "Train accuracy at epoch 8 is 99.09909909909909 %\n",
      "Test accuracy at epoch 8 is 100.0 %\n",
      "Loss value at epoch 8 is 0.7443919777870178\n",
      "==================================\n",
      "Train accuracy at epoch 9 is 93.24324324324324 %\n",
      "Test accuracy at epoch 9 is 92.70833333333334 %\n",
      "Loss value at epoch 9 is 0.7439413070678711\n"
     ]
    },
    {
     "data": {
      "image/png": "[encoded data removed]",
      "text/plain": [
       "<Figure size 432x288 with 1 Axes>"
      ]
     },
     "metadata": {
      "needs_background": "light"
     },
     "output_type": "display_data"
    },
    {
     "data": {
      "image/png": "[encoded data removed]",
      "text/plain": [
       "<Figure size 432x288 with 1 Axes>"
      ]
     },
     "metadata": {
      "needs_background": "light"
     },
     "output_type": "display_data"
    },
    {
     "name": "stdout",
     "output_type": "stream",
     "text": [
      "[[26  0  0  0]\n",
      " [ 0 15  0  0]\n",
      " [ 0  0 25  0]\n",
      " [ 1  6  2 21]]\n",
      "[3 0 0 2 0 1 3 0 0 1 3 1 0 2 1 0 3 0 2 2 2 0 2 3 0 1 1 3 2 3 2 2 1 1 2 0 0\n",
      " 2 1 1 3 0 2 2 3 1 1 1 2 0 0 3 0 0 2 0 3 3 3 2 3 1 2 1 1 1 2 1 1 2 3 3 0 0\n",
      " 2 0 3 3 0 3 2 0 0 2 2 1 2 0 0 2 3 3 2 1 0 2]\n",
      "[3 0 0 2 0 1 3 0 0 1 3 1 0 2 3 0 3 0 2 3 2 0 3 3 0 3 1 3 2 3 2 2 3 3 2 0 0\n",
      " 2 1 1 3 0 2 2 3 1 1 1 2 0 0 3 3 0 2 0 3 3 3 2 3 3 2 3 1 1 2 1 1 2 3 3 0 0\n",
      " 2 0 3 3 0 3 2 0 0 2 2 1 2 0 0 2 3 3 2 1 0 2]\n"
     ]
    },
    {
     "data": {
      "image/png": "[encoded data removed]",
      "text/plain": [
       "<Figure size 288x288 with 2 Axes>"
      ]
     },
     "metadata": {
      "needs_background": "light"
     },
     "output_type": "display_data"
    }
   ],
   "source": [
    "import matplotlib.pyplot as plt\n",
    "\n",
    "epochs = 10\n",
    "trainAccuracy = np.zeros(epochs)\n",
    "testAccuracy = np.zeros(epochs)\n",
    "lossValue = 0.0\n",
    "\n",
    "for epoch in range(epochs):\n",
    "  \n",
    "    accTrain = tfe.metrics.SparseAccuracy()\n",
    "    for xb, yb in train_it.batch(16):\n",
    "        ypred = cnn(xb)\n",
    "        accTrain(predictions=ypred, labels=yb)\n",
    "        lossValue = tf.losses.sparse_softmax_cross_entropy(yb, ypred)\n",
    "\n",
    "    accTest = tfe.metrics.SparseAccuracy()\n",
    "    for xb, yb in test_it.batch(16):\n",
    "        #print(\"test\")\n",
    "        #print(xb, yb)\n",
    "        ypred = cnn(xb)\n",
    "        accTest(predictions=ypred, labels=yb)\n",
    "    \n",
    "    trainAccuracy[epoch] = accTrain.result().numpy()\n",
    "    testAccuracy[epoch] = accTest.result().numpy()\n",
    "    print('==================================')\n",
    "    print('Train accuracy at epoch {} is {} %'.format(epoch, trainAccuracy[epoch] * 100))\n",
    "    print('Test accuracy at epoch {} is {} %'.format(epoch, testAccuracy[epoch] * 100))\n",
    "    print('Loss value at epoch {} is {}'.format(epoch, lossValue))\n",
    "  \n",
    "    for xb, yb in train_it.shuffle(1000).batch(16):\n",
    "        opt.minimize(lambda: loss(cnn, xb, yb))\n",
    "\n",
    "plt.plot(trainAccuracy)\n",
    "plt.show()\n",
    "plt.plot(testAccuracy)\n",
    "plt.show()\n",
    "\n",
    "pred = []\n",
    "true = []\n",
    "\n",
    "for xb, yb in test_it.batch(16):\n",
    "    ypred = cnn(xb)\n",
    "    to_append = [tf.argmax(x) for x in ypred]\n",
    "    pred = pred + to_append\n",
    "    true_append = [x for x in yb]\n",
    "    true = true + true_append\n",
    "\n",
    "cf = tf.confusion_matrix(labels=true, predictions=pred)\n",
    "cf = np.array(cf)\n",
    "\n",
    "print(cf)\n",
    "\n",
    "plt.matshow(cf)\n",
    "plt.colorbar()\n",
    "\n",
    "print(np.array(pred))\n",
    "print(np.array(true))"
   ]
  },
  {
   "cell_type": "code",
   "execution_count": null,
   "metadata": {},
   "outputs": [],
   "source": []
  },
  {
   "cell_type": "code",
   "execution_count": null,
   "metadata": {},
   "outputs": [],
   "source": []
  },
  {
   "cell_type": "code",
   "execution_count": null,
   "metadata": {},
   "outputs": [],
   "source": []
  }
 ],
 "metadata": {
  "kernelspec": {
   "display_name": "Python 3",
   "language": "python",
   "name": "python3"
  },
  "language_info": {
   "codemirror_mode": {
    "name": "ipython",
    "version": 3
   },
   "file_extension": ".py",
   "mimetype": "text/x-python",
   "name": "python",
   "nbconvert_exporter": "python",
   "pygments_lexer": "ipython3",
   "version": "3.6.7"
  }
 },
 "nbformat": 4,
 "nbformat_minor": 2
}
