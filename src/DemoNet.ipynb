{
 "cells": [
  {
   "cell_type": "code",
   "execution_count": 1,
   "metadata": {},
   "outputs": [],
   "source": [
    "import os\n",
    "from pydub import AudioSegment"
   ]
  },
  {
   "cell_type": "code",
   "execution_count": 2,
   "metadata": {},
   "outputs": [],
   "source": [
    "#edit from ale's code\n",
    "\n",
    "def partition_dataset(datapath, out, ms, hop = None):\n",
    "    \n",
    "    if hop is None:\n",
    "        hop = ms\n",
    "    cats = os.listdir(datapath)\n",
    "    for cat in cats:\n",
    "        dirpath = os.path.join(datapath, str(cat))\n",
    "        for track in os.listdir(dirpath):\n",
    "            trackpath = os.path.join(dirpath, str(track))\n",
    "            audio = AudioSegment.from_file(trackpath)\n",
    "            \n",
    "            size = len(audio) #boh\n",
    "            segments = []\n",
    "            i = 0\n",
    "            while(i+ms < size):\n",
    "                next_segment = audio[i:i+ms]\n",
    "                segments.append(next_segment)\n",
    "                i = i+hop\n",
    "            \n",
    "            outpath = os.path.join(out, str(cat), str(track.split(\".\")[0]))\n",
    "            \n",
    "            if not os.path.isdir(outpath):\n",
    "                os.makedirs(outpath)\n",
    "                \n",
    "            form = track.split(\".\")[-1]\n",
    "                    \n",
    "            for idx, segment in enumerate(segments):\n",
    "                segment.export(os.path.join(outpath, str(str(idx) + \".\" + form)), format=form)\n"
   ]
  },
  {
   "cell_type": "code",
   "execution_count": 3,
   "metadata": {},
   "outputs": [],
   "source": [
    "partition_dataset('../dataset/UtahAudioData','../dataset/segments',10000, 5000)"
   ]
  },
  {
   "cell_type": "markdown",
   "metadata": {},
   "source": [
    "Now we read the dataset for tensorflow"
   ]
  },
  {
   "cell_type": "code",
   "execution_count": 5,
   "metadata": {},
   "outputs": [],
   "source": [
    "import glob\n",
    "from Spectrum import Spectrum \n",
    "\n",
    "spectres = []\n",
    "labels = []\n",
    "\n",
    "#177\n",
    "records = glob.glob('../dataset/segments/concrete_mixer/ConcreteMixer_onsite/*.wav')\n",
    "for record in records:\n",
    "    data = Spectrum.compute_specgram_and_delta(record)\n",
    "    spectres.append(data)\n",
    "    labels.append(0.0)\n",
    "\n",
    "#69\n",
    "records = glob.glob('../dataset/segments/dozer_JD700J/JD700J_onsite/*.wav')\n",
    "for record in records:\n",
    "    data = Spectrum.compute_specgram_and_delta(record)\n",
    "    spectres.append(data)\n",
    "    labels.append(1.0)\n",
    "\n",
    "#111\n",
    "records = glob.glob('../dataset/segments/excavator_JD50G/JD50G_onboard/*.wav')\n",
    "for record in records:\n",
    "    data = Spectrum.compute_specgram_and_delta(record)\n",
    "    spectres.append(data)\n",
    "    labels.append(2.0)\n",
    "#44\n",
    "records = glob.glob('../dataset/segments/excavator_JD50G/JD50G_onsite/*.wav')\n",
    "for record in records:\n",
    "    data = Spectrum.compute_specgram_and_delta(record)\n",
    "    spectres.append(data)\n",
    "    labels.append(2.0)\n",
    "\n",
    "#112\n",
    "records = glob.glob('../dataset/segments/excavator_JD50G/JD50G_onsit_0/*.wav')\n",
    "for record in records:\n",
    "    data = Spectrum.compute_specgram_and_delta(record)\n",
    "    spectres.append(data)\n",
    "    labels.append(2.0)\n",
    "\n",
    "#237\n",
    "records = glob.glob('../dataset/segments/grader_JD670G/JD670G_onboard/*.wav')\n",
    "for record in records:\n",
    "    data = Spectrum.compute_specgram_and_delta(record)\n",
    "    spectres.append(data)\n",
    "    labels.append(3.0)\n",
    "#238\n",
    "records = glob.glob('../dataset/segments/grader_JD670G/JD670G_onsite/*.wav')\n",
    "for record in records:\n",
    "    data = Spectrum.compute_specgram_and_delta(record)\n",
    "    spectres.append(data)\n",
    "    labels.append(3.0)"
   ]
  },
  {
   "cell_type": "code",
   "execution_count": 20,
   "metadata": {},
   "outputs": [
    {
     "name": "stdout",
     "output_type": "stream",
     "text": [
      "995\n",
      "(128, 44, 2)\n",
      "995\n"
     ]
    },
    {
     "ename": "AttributeError",
     "evalue": "'float' object has no attribute 'shape'",
     "output_type": "error",
     "traceback": [
      "\u001b[0;31m---------------------------------------------------------------------------\u001b[0m",
      "\u001b[0;31mAttributeError\u001b[0m                            Traceback (most recent call last)",
      "\u001b[0;32m<ipython-input-20-dbbaebc96cf9>\u001b[0m in \u001b[0;36m<module>\u001b[0;34m\u001b[0m\n\u001b[1;32m      2\u001b[0m \u001b[0mprint\u001b[0m\u001b[0;34m(\u001b[0m\u001b[0mspectres\u001b[0m\u001b[0;34m[\u001b[0m\u001b[0;36m0\u001b[0m\u001b[0;34m]\u001b[0m\u001b[0;34m.\u001b[0m\u001b[0mshape\u001b[0m\u001b[0;34m)\u001b[0m\u001b[0;34m\u001b[0m\u001b[0;34m\u001b[0m\u001b[0m\n\u001b[1;32m      3\u001b[0m \u001b[0mprint\u001b[0m\u001b[0;34m(\u001b[0m\u001b[0mlen\u001b[0m\u001b[0;34m(\u001b[0m\u001b[0mlabels\u001b[0m\u001b[0;34m)\u001b[0m\u001b[0;34m)\u001b[0m\u001b[0;34m\u001b[0m\u001b[0;34m\u001b[0m\u001b[0m\n\u001b[0;32m----> 4\u001b[0;31m \u001b[0mprint\u001b[0m\u001b[0;34m(\u001b[0m\u001b[0mlabels\u001b[0m\u001b[0;34m[\u001b[0m\u001b[0;36m0\u001b[0m\u001b[0;34m]\u001b[0m\u001b[0;34m.\u001b[0m\u001b[0mshape\u001b[0m\u001b[0;34m)\u001b[0m\u001b[0;34m\u001b[0m\u001b[0;34m\u001b[0m\u001b[0m\n\u001b[0m",
      "\u001b[0;31mAttributeError\u001b[0m: 'float' object has no attribute 'shape'"
     ]
    }
   ],
   "source": [
    "print(len(spectres))\n",
    "print(spectres[0].shape)\n",
    "print(len(labels))\n"
   ]
  },
  {
   "cell_type": "code",
   "execution_count": 24,
   "metadata": {},
   "outputs": [],
   "source": [
    "import pickle\n",
    "dataset = (spectres, labels)\n",
    "'''\n",
    "with open('dataset','wb') as out:\n",
    "    pickle.dump(dataset, out)\n",
    "'''"
   ]
  },
  {
   "cell_type": "code",
   "execution_count": 32,
   "metadata": {},
   "outputs": [],
   "source": [
    "import pickle\n",
    "with open('dataset','rb') as inp:\n",
    "    dataset = pickle.load(inp)"
   ]
  },
  {
   "cell_type": "code",
   "execution_count": 44,
   "metadata": {},
   "outputs": [
    {
     "name": "stdout",
     "output_type": "stream",
     "text": [
      "(array([[[-3.57568262e+01,  5.83802958e-01],\n",
      "        [-3.91446069e+01,  5.83802958e-01],\n",
      "        [-3.00469970e+01,  5.83802958e-01],\n",
      "        ...,\n",
      "        [-2.39652019e+01, -2.47854020e-01],\n",
      "        [-1.78122002e+01, -2.47854020e-01],\n",
      "        [-2.46438175e+01, -2.47854020e-01]],\n",
      "\n",
      "       [[-3.15093145e+01,  4.13028400e-01],\n",
      "        [-4.05511051e+01,  4.13028400e-01],\n",
      "        [-3.04499306e+01,  4.13028400e-01],\n",
      "        ...,\n",
      "        [-2.27153192e+01, -5.51322180e-01],\n",
      "        [-1.72067430e+01, -5.51322180e-01],\n",
      "        [-2.20723518e+01, -5.51322180e-01]],\n",
      "\n",
      "       [[-3.38103562e+01,  1.94627990e-01],\n",
      "        [-3.38443457e+01,  1.94627990e-01],\n",
      "        [-2.82782777e+01,  1.94627990e-01],\n",
      "        ...,\n",
      "        [-2.36914737e+01, -1.09089279e+00],\n",
      "        [-1.98452068e+01, -1.09089279e+00],\n",
      "        [-2.63971639e+01, -1.09089279e+00]],\n",
      "\n",
      "       ...,\n",
      "\n",
      "       [[-5.87395780e+01, -1.41736147e+00],\n",
      "        [-8.00000000e+01, -1.41736147e+00],\n",
      "        [-8.00000000e+01, -1.41736147e+00],\n",
      "        ...,\n",
      "        [-8.00000000e+01, -1.49006151e-15],\n",
      "        [-8.00000000e+01, -1.49006151e-15],\n",
      "        [-8.00000000e+01, -1.49006151e-15]],\n",
      "\n",
      "       [[-5.88000757e+01, -1.41332829e+00],\n",
      "        [-8.00000000e+01, -1.41332829e+00],\n",
      "        [-8.00000000e+01, -1.41332829e+00],\n",
      "        ...,\n",
      "        [-8.00000000e+01, -1.49006151e-15],\n",
      "        [-8.00000000e+01, -1.49006151e-15],\n",
      "        [-8.00000000e+01, -1.49006151e-15]],\n",
      "\n",
      "       [[-5.89710994e+01, -1.40192671e+00],\n",
      "        [-8.00000000e+01, -1.40192671e+00],\n",
      "        [-8.00000000e+01, -1.40192671e+00],\n",
      "        ...,\n",
      "        [-8.00000000e+01, -1.49006151e-15],\n",
      "        [-8.00000000e+01, -1.49006151e-15],\n",
      "        [-8.00000000e+01, -1.49006151e-15]]]), 3.0)\n"
     ]
    }
   ],
   "source": [
    "import random\n",
    "X, Y = dataset\n",
    "new_dataset = [x for x in zip(X,Y)]\n",
    "random.shuffle(new_dataset)\n",
    "print(new_dataset[0])\n",
    "X = []\n",
    "Y = []\n",
    "for x, y in new_dataset:\n",
    "    X.append(x)\n",
    "    Y.append(y)"
   ]
  },
  {
   "cell_type": "code",
   "execution_count": 45,
   "metadata": {},
   "outputs": [
    {
     "name": "stdout",
     "output_type": "stream",
     "text": [
      "[[[-3.57568262e+01  5.83802958e-01]\n",
      "  [-3.91446069e+01  5.83802958e-01]\n",
      "  [-3.00469970e+01  5.83802958e-01]\n",
      "  ...\n",
      "  [-2.39652019e+01 -2.47854020e-01]\n",
      "  [-1.78122002e+01 -2.47854020e-01]\n",
      "  [-2.46438175e+01 -2.47854020e-01]]\n",
      "\n",
      " [[-3.15093145e+01  4.13028400e-01]\n",
      "  [-4.05511051e+01  4.13028400e-01]\n",
      "  [-3.04499306e+01  4.13028400e-01]\n",
      "  ...\n",
      "  [-2.27153192e+01 -5.51322180e-01]\n",
      "  [-1.72067430e+01 -5.51322180e-01]\n",
      "  [-2.20723518e+01 -5.51322180e-01]]\n",
      "\n",
      " [[-3.38103562e+01  1.94627990e-01]\n",
      "  [-3.38443457e+01  1.94627990e-01]\n",
      "  [-2.82782777e+01  1.94627990e-01]\n",
      "  ...\n",
      "  [-2.36914737e+01 -1.09089279e+00]\n",
      "  [-1.98452068e+01 -1.09089279e+00]\n",
      "  [-2.63971639e+01 -1.09089279e+00]]\n",
      "\n",
      " ...\n",
      "\n",
      " [[-5.87395780e+01 -1.41736147e+00]\n",
      "  [-8.00000000e+01 -1.41736147e+00]\n",
      "  [-8.00000000e+01 -1.41736147e+00]\n",
      "  ...\n",
      "  [-8.00000000e+01 -1.49006151e-15]\n",
      "  [-8.00000000e+01 -1.49006151e-15]\n",
      "  [-8.00000000e+01 -1.49006151e-15]]\n",
      "\n",
      " [[-5.88000757e+01 -1.41332829e+00]\n",
      "  [-8.00000000e+01 -1.41332829e+00]\n",
      "  [-8.00000000e+01 -1.41332829e+00]\n",
      "  ...\n",
      "  [-8.00000000e+01 -1.49006151e-15]\n",
      "  [-8.00000000e+01 -1.49006151e-15]\n",
      "  [-8.00000000e+01 -1.49006151e-15]]\n",
      "\n",
      " [[-5.89710994e+01 -1.40192671e+00]\n",
      "  [-8.00000000e+01 -1.40192671e+00]\n",
      "  [-8.00000000e+01 -1.40192671e+00]\n",
      "  ...\n",
      "  [-8.00000000e+01 -1.49006151e-15]\n",
      "  [-8.00000000e+01 -1.49006151e-15]\n",
      "  [-8.00000000e+01 -1.49006151e-15]]]\n",
      "3.0\n"
     ]
    }
   ],
   "source": [
    "print(X[0])\n",
    "print(Y[0])"
   ]
  },
  {
   "cell_type": "code",
   "execution_count": null,
   "metadata": {},
   "outputs": [],
   "source": [
    "\n"
   ]
  },
  {
   "cell_type": "code",
   "execution_count": 46,
   "metadata": {},
   "outputs": [],
   "source": [
    "import numpy as np\n",
    "X = np.array(X, dtype=np.float32)\n",
    "Y = np.array(Y, dtype=np.int32)\n",
    "data_size = len(X)\n",
    "split_size = int(0.7*data_size)\n",
    "xtrain = X[:split_size]\n",
    "ytrain = Y[:split_size]\n",
    "Xtest = X[split_size:]\n",
    "Ytest = Y[split_size:]"
   ]
  },
  {
   "cell_type": "code",
   "execution_count": 47,
   "metadata": {},
   "outputs": [],
   "source": [
    "import tensorflow as tf\n",
    "import tensorflow.contrib.eager as tfe\n",
    "tf.enable_eager_execution()"
   ]
  },
  {
   "cell_type": "code",
   "execution_count": 48,
   "metadata": {},
   "outputs": [],
   "source": [
    "Xtrain = tf.convert_to_tensor(xtrain, dtype=tf.float32)\n",
    "ytrain = tf.convert_to_tensor(ytrain, dtype=tf.float32)\n",
    "Xtest = tf.convert_to_tensor(Xtest, dtype=tf.float32)\n",
    "ytest = tf.convert_to_tensor(Ytest, dtype=tf.float32)\n",
    "train_it = tf.data.Dataset.from_tensor_slices((xtrain, ytrain))\n",
    "test_it = tf.data.Dataset.from_tensor_slices((Xtest, Ytest))"
   ]
  },
  {
   "cell_type": "code",
   "execution_count": 49,
   "metadata": {},
   "outputs": [],
   "source": [
    "def _parse_example(x, y):\n",
    "    #x = tf.cast(tf.reshape(x, (244, 341, 4)), tf.float32) / tf.constant(255.0)\n",
    "    x = tf.cast(x, tf.float32)\n",
    "    y = tf.cast(y, tf.int32)\n",
    "    return x, y\n",
    "train_it = train_it.map(_parse_example)\n",
    "test_it = test_it.map(_parse_example)"
   ]
  },
  {
   "cell_type": "code",
   "execution_count": null,
   "metadata": {},
   "outputs": [],
   "source": []
  },
  {
   "cell_type": "code",
   "execution_count": 50,
   "metadata": {},
   "outputs": [],
   "source": [
    "class SpectroCNN(tf.keras.Model):\n",
    "  \n",
    "    def __init__(self):\n",
    "        super(SpectroCNN, self).__init__()\n",
    "    \n",
    "        self.conv1 = tf.layers.Conv2D(filters=24, kernel_size=[6, 6], strides = (1,1), padding=\"same\", activation=tf.nn.relu)\n",
    "        self.conv2 = tf.layers.Conv2D(filters=24, kernel_size=[6, 6], strides = (1,1), padding=\"same\", activation=tf.nn.relu)\n",
    "        self.conv3 = tf.layers.Conv2D(filters=48, kernel_size=[5, 5], strides = (2,2), padding=\"same\", activation=tf.nn.relu)\n",
    "        self.conv4 = tf.layers.Conv2D(filters=48, kernel_size=[5, 5], strides = (2,2), padding=\"same\", activation=tf.nn.relu)\n",
    "        self.conv5 = tf.layers.Conv2D(filters=64, kernel_size=[4, 4], strides = (2,2), padding=\"same\", activation=tf.nn.relu)\n",
    "\n",
    "        self.dense = tf.layers.Dense(200, activation=tf.nn.relu)\n",
    "        self.dropout = tf.layers.Dropout(0.3) #to be improved\n",
    "    \n",
    "        self.logits = tf.layers.Dense(units=4, activation=tf.nn.softmax)\n",
    "    \n",
    "    def call(self, x, training=False):\n",
    "    \n",
    "        x = self.conv1(x)\n",
    "        x = self.conv2(x)\n",
    "        x = self.conv3(x)\n",
    "        x = self.conv4(x)\n",
    "        x = self.conv5(x)\n",
    "        x = self.dense(tf.reshape(x, [-1, 16*6*64])) #this is not so correct\n",
    "        x = self.dropout(x, training=training)\n",
    "\n",
    "        return self.logits(x)"
   ]
  },
  {
   "cell_type": "code",
   "execution_count": 51,
   "metadata": {},
   "outputs": [],
   "source": [
    "cnn = SpectroCNN()\n",
    "def loss(net, x, y):\n",
    "    return tf.losses.sparse_softmax_cross_entropy(logits=net(x, training=True), labels=y)\n",
    "\n",
    "opt = tf.train.AdamOptimizer()"
   ]
  },
  {
   "cell_type": "code",
   "execution_count": 60,
   "metadata": {},
   "outputs": [
    {
     "name": "stdout",
     "output_type": "stream",
     "text": [
      "==================================\n",
      "Train accuracy at epoch 0 is 49.712643678160916 %\n",
      "Test accuracy at epoch 0 is 43.812709030100336 %\n",
      "Loss value at epoch 0 is 0.9936684370040894\n",
      "==================================\n",
      "Train accuracy at epoch 1 is 49.712643678160916 %\n",
      "Test accuracy at epoch 1 is 43.812709030100336 %\n",
      "Loss value at epoch 1 is 0.9936684370040894\n",
      "==================================\n",
      "Train accuracy at epoch 2 is 49.712643678160916 %\n",
      "Test accuracy at epoch 2 is 43.812709030100336 %\n",
      "Loss value at epoch 2 is 0.9936684370040894\n",
      "==================================\n",
      "Train accuracy at epoch 3 is 49.712643678160916 %\n",
      "Test accuracy at epoch 3 is 43.812709030100336 %\n",
      "Loss value at epoch 3 is 0.9936684370040894\n",
      "==================================\n",
      "Train accuracy at epoch 4 is 49.712643678160916 %\n",
      "Test accuracy at epoch 4 is 43.812709030100336 %\n",
      "Loss value at epoch 4 is 0.9936684370040894\n",
      "==================================\n",
      "Train accuracy at epoch 5 is 49.712643678160916 %\n",
      "Test accuracy at epoch 5 is 43.812709030100336 %\n",
      "Loss value at epoch 5 is 0.9936684370040894\n",
      "==================================\n",
      "Train accuracy at epoch 6 is 49.712643678160916 %\n",
      "Test accuracy at epoch 6 is 43.812709030100336 %\n",
      "Loss value at epoch 6 is 0.9936684370040894\n",
      "==================================\n",
      "Train accuracy at epoch 7 is 49.712643678160916 %\n",
      "Test accuracy at epoch 7 is 43.812709030100336 %\n",
      "Loss value at epoch 7 is 0.9936684370040894\n",
      "==================================\n",
      "Train accuracy at epoch 8 is 49.712643678160916 %\n",
      "Test accuracy at epoch 8 is 43.812709030100336 %\n",
      "Loss value at epoch 8 is 0.9936684370040894\n",
      "==================================\n",
      "Train accuracy at epoch 9 is 49.712643678160916 %\n",
      "Test accuracy at epoch 9 is 43.812709030100336 %\n",
      "Loss value at epoch 9 is 0.9936684370040894\n"
     ]
    },
    {
     "data": {
      "image/png": "[encoded data removed]",
      "text/plain": [
       "<Figure size 432x288 with 1 Axes>"
      ]
     },
     "metadata": {
      "needs_background": "light"
     },
     "output_type": "display_data"
    },
    {
     "data": {
      "image/png": "[encoded data removed]",
      "text/plain": [
       "<Figure size 432x288 with 1 Axes>"
      ]
     },
     "metadata": {
      "needs_background": "light"
     },
     "output_type": "display_data"
    },
    {
     "name": "stdout",
     "output_type": "stream",
     "text": [
      "[[  0   0   0  60]\n",
      " [  0   0   0  31]\n",
      " [  0   0   0  77]\n",
      " [  0   0   0 131]]\n",
      "[3 3 3 3 3 3 3 3 3 3 3 3 3 3 3 3 3 3 3 3 3 3 3 3 3 3 3 3 3 3 3 3 3 3 3 3 3\n",
      " 3 3 3 3 3 3 3 3 3 3 3 3 3 3 3 3 3 3 3 3 3 3 3 3 3 3 3 3 3 3 3 3 3 3 3 3 3\n",
      " 3 3 3 3 3 3 3 3 3 3 3 3 3 3 3 3 3 3 3 3 3 3 3 3 3 3 3 3 3 3 3 3 3 3 3 3 3\n",
      " 3 3 3 3 3 3 3 3 3 3 3 3 3 3 3 3 3 3 3 3 3 3 3 3 3 3 3 3 3 3 3 3 3 3 3 3 3\n",
      " 3 3 3 3 3 3 3 3 3 3 3 3 3 3 3 3 3 3 3 3 3 3 3 3 3 3 3 3 3 3 3 3 3 3 3 3 3\n",
      " 3 3 3 3 3 3 3 3 3 3 3 3 3 3 3 3 3 3 3 3 3 3 3 3 3 3 3 3 3 3 3 3 3 3 3 3 3\n",
      " 3 3 3 3 3 3 3 3 3 3 3 3 3 3 3 3 3 3 3 3 3 3 3 3 3 3 3 3 3 3 3 3 3 3 3 3 3\n",
      " 3 3 3 3 3 3 3 3 3 3 3 3 3 3 3 3 3 3 3 3 3 3 3 3 3 3 3 3 3 3 3 3 3 3 3 3 3\n",
      " 3 3 3]\n",
      "[1 3 2 3 3 2 2 2 3 1 3 1 1 0 0 0 3 2 1 0 3 3 0 3 3 2 0 2 3 3 3 3 2 3 3 3 3\n",
      " 0 3 0 3 0 3 0 2 3 2 2 2 3 3 2 2 0 0 2 2 3 1 0 3 3 3 2 0 0 3 3 2 3 1 2 3 0\n",
      " 2 1 3 3 3 1 1 0 3 3 2 3 2 3 3 3 0 3 3 3 0 2 2 2 0 2 2 2 3 3 2 3 2 3 0 3 3\n",
      " 1 0 3 0 3 3 2 3 2 1 0 2 2 3 0 3 2 0 2 3 2 2 2 3 2 3 2 2 1 0 3 3 0 3 3 0 3\n",
      " 0 3 3 2 1 0 3 3 0 0 3 2 3 1 3 2 2 1 2 3 0 2 1 3 3 1 3 2 2 2 1 3 3 3 2 0 3\n",
      " 0 2 3 0 2 2 3 2 3 3 3 1 3 0 2 3 3 1 0 3 2 3 0 0 3 3 3 3 2 0 3 3 0 3 3 3 0\n",
      " 0 3 1 0 3 3 2 2 1 0 1 1 1 1 2 3 3 3 2 2 2 2 0 3 0 3 2 0 3 3 3 3 2 3 0 0 3\n",
      " 0 0 3 3 3 2 3 2 2 3 3 0 3 0 2 3 3 2 3 3 3 1 3 0 0 1 3 0 3 1 3 2 2 3 2 3 1\n",
      " 2 0 3]\n"
     ]
    },
    {
     "data": {
      "image/png": "[encoded data removed]",
      "text/plain": [
       "<Figure size 288x288 with 2 Axes>"
      ]
     },
     "metadata": {
      "needs_background": "light"
     },
     "output_type": "display_data"
    }
   ],
   "source": [
    "import matplotlib.pyplot as plt\n",
    "\n",
    "epochs = 10\n",
    "trainAccuracy = np.zeros(epochs)\n",
    "testAccuracy = np.zeros(epochs)\n",
    "lossValue = 0.0\n",
    "\n",
    "for epoch in range(epochs):\n",
    "  \n",
    "    accTrain = tfe.metrics.SparseAccuracy()\n",
    "    for xb, yb in train_it.batch(16):\n",
    "        ypred = cnn(xb)\n",
    "        accTrain(predictions=ypred, labels=yb)\n",
    "        lossValue = tf.losses.sparse_softmax_cross_entropy(yb, ypred)\n",
    "\n",
    "    accTest = tfe.metrics.SparseAccuracy()\n",
    "    for xb, yb in test_it.batch(16):\n",
    "        #print(\"test\")\n",
    "        #print(xb, yb)\n",
    "        ypred = cnn(xb)\n",
    "        accTest(predictions=ypred, labels=yb)\n",
    "    \n",
    "    trainAccuracy[epoch] = accTrain.result().numpy()\n",
    "    testAccuracy[epoch] = accTest.result().numpy()\n",
    "    print('==================================')\n",
    "    print('Train accuracy at epoch {} is {} %'.format(epoch, trainAccuracy[epoch] * 100))\n",
    "    print('Test accuracy at epoch {} is {} %'.format(epoch, testAccuracy[epoch] * 100))\n",
    "    print('Loss value at epoch {} is {}'.format(epoch, lossValue))\n",
    "  \n",
    "    for xb, yb in train_it.shuffle(1000).batch(16):\n",
    "        opt.minimize(lambda: loss(cnn, xb, yb))\n",
    "\n",
    "plt.plot(trainAccuracy)\n",
    "plt.show()\n",
    "plt.plot(testAccuracy)\n",
    "plt.show()\n",
    "\n",
    "pred = []\n",
    "true = []\n",
    "\n",
    "for xb, yb in test_it.batch(16):\n",
    "    ypred = cnn(xb)\n",
    "    to_append = [tf.argmax(x) for x in ypred]\n",
    "    pred = pred + to_append\n",
    "    true_append = [x for x in yb]\n",
    "    true = true + true_append\n",
    "\n",
    "cf = tf.confusion_matrix(labels=true, predictions=pred)\n",
    "cf = np.array(cf)\n",
    "\n",
    "print(cf)\n",
    "\n",
    "plt.matshow(cf)\n",
    "plt.colorbar()\n",
    "\n",
    "print(np.array(pred))\n",
    "print(np.array(true))"
   ]
  },
  {
   "cell_type": "code",
   "execution_count": null,
   "metadata": {},
   "outputs": [],
   "source": []
  },
  {
   "cell_type": "code",
   "execution_count": null,
   "metadata": {},
   "outputs": [],
   "source": []
  },
  {
   "cell_type": "code",
   "execution_count": null,
   "metadata": {},
   "outputs": [],
   "source": []
  }
 ],
 "metadata": {
  "kernelspec": {
   "display_name": "Python 3",
   "language": "python",
   "name": "python3"
  },
  "language_info": {
   "codemirror_mode": {
    "name": "ipython",
    "version": 3
   },
   "file_extension": ".py",
   "mimetype": "text/x-python",
   "name": "python",
   "nbconvert_exporter": "python",
   "pygments_lexer": "ipython3",
   "version": "3.6.7"
  }
 },
 "nbformat": 4,
 "nbformat_minor": 2
}
