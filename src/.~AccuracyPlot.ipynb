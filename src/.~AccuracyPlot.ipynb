{
 "cells": [
  {
   "cell_type": "markdown",
   "metadata": {},
   "source": [
    "# Accuracy Plot on RawNet"
   ]
  },
  {
   "cell_type": "markdown",
   "metadata": {},
   "source": [
    "Module used to decide which sample size to use"
   ]
  },
  {
   "cell_type": "code",
   "execution_count": 1,
   "metadata": {},
   "outputs": [],
   "source": [
    "import matplotlib.pyplot as plt"
   ]
  },
  {
   "cell_type": "code",
   "execution_count": 2,
   "metadata": {},
   "outputs": [],
   "source": [
    "sizeLabels = [\"30\", \"50\", \"100\", \"500\", \"1000\", \"2000\", \"3000\", \"5000\", \"7000\", \"10000\"]\n",
    "accTestRaw = [94.76, 94.4, 95.8, 86.4, 91.4, 77.8, 62.6, 61.8, 39.4, 52]"
   ]
  },
  {
   "cell_type": "code",
   "execution_count": 3,
   "metadata": {},
   "outputs": [
    {
     "data": {
      "image/png": "[encoded data removed]",
      "text/plain": [
       "<Figure size 432x288 with 1 Axes>"
      ]
     },
     "metadata": {},
     "output_type": "display_data"
    }
   ],
   "source": [
    "fig,ax = plt.subplots()\n",
    "#plot line\n",
    "line, = plt.plot(sizeLabels,accTestRaw, marker=\"o\")\n",
    "#plot points\n",
    "\n",
    "plt.plot(sizeLabels, accTestRaw, \"ro\")\n",
    "plt.xlabel('Sample length (ms)')\n",
    "plt.ylabel('Accuracy')\n",
    "plt.suptitle('RawNet Test Accuracy')\n",
    "\n",
    "annot = ax.annotate(\"\", xy=(0,0), xytext=(-20,20),textcoords=\"offset points\",\n",
    "                    bbox=dict(boxstyle=\"round\", fc=\"w\"),\n",
    "                    arrowprops=dict(arrowstyle=\"->\"))\n",
    "annot.set_visible(False)\n"
   ]
  },
  {
   "cell_type": "code",
   "execution_count": 4,
   "metadata": {},
   "outputs": [],
   "source": [
    "def update_annot(ind):\n",
    "    x,y = line.get_data()\n",
    "    annot.xy = (x[ind[\"ind\"][0]], y[ind[\"ind\"][0]])\n",
    "    text = \"{}, {}ms\".format(\" \".join([str(accTestRaw[n]) for n in ind[\"ind\"]]), \n",
    "                           \" \".join([sizeLabels[n] for n in ind[\"ind\"]]))\n",
    "    annot.set_text(text)\n",
    "    annot.get_bbox_patch().set_alpha(0.4)\n",
    "\n",
    "\n",
    "def hover(event):\n",
    "    vis = annot.get_visible()\n",
    "    if event.inaxes == ax:\n",
    "        cont, ind = line.contains(event)\n",
    "        if cont:\n",
    "            update_annot(ind)\n",
    "            annot.set_visible(True)\n",
    "            fig.canvas.draw_idle()\n",
    "        else:\n",
    "            if vis:\n",
    "                annot.set_visible(False)\n",
    "                fig.canvas.draw_idle()"
   ]
  },
  {
   "cell_type": "code",
   "execution_count": 5,
   "metadata": {},
   "outputs": [],
   "source": [
    "fig.canvas.mpl_connect(\"motion_notify_event\", hover)\n",
    "\n",
    "plt.show()"
   ]
  }
 ],
 "metadata": {
  "kernelspec": {
   "display_name": "Python 3",
   "language": "python",
   "name": "python3"
  },
  "language_info": {
   "codemirror_mode": {
    "name": "ipython",
    "version": 3
   },
   "file_extension": ".py",
   "mimetype": "text/x-python",
   "name": "python",
   "nbconvert_exporter": "python",
   "pygments_lexer": "ipython3",
   "version": "3.6.5"
  }
 },
 "nbformat": 4,
 "nbformat_minor": 2
}
